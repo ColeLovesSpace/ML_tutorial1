{
  "nbformat": 4,
  "nbformat_minor": 0,
  "metadata": {
    "colab": {
      "provenance": []
    },
    "kernelspec": {
      "name": "python3",
      "display_name": "Python 3"
    },
    "language_info": {
      "name": "python"
    }
  },
  "cells": [
    {
      "cell_type": "markdown",
      "source": [
        "# Machine Learning for Many-Body Physics, Tutorial 1: \n",
        "# Learning the Ising Hamiltonian using linear regression\n",
        "\n",
        "Perimeter Scholars International 2022-2023\n",
        "\n",
        "February 28, 2023\n",
        "\n",
        "Lauren Hayward\n",
        "\n",
        "**References:** Section VI.D of https://arxiv.org/abs/1803.08823, and the corresponding Notebook D from https://physics.bu.edu/~pankajm/MLnotebooks.html"
      ],
      "metadata": {
        "id": "lkO_BzBFk3PP"
      }
    },
    {
      "cell_type": "markdown",
      "source": [
        "## Generate the data set:"
      ],
      "metadata": {
        "id": "O0B99Cr8lyO6"
      }
    },
    {
      "cell_type": "code",
      "source": [
        "import numpy as np\n",
        "import matplotlib.pyplot as plt\n",
        "from mpl_toolkits.axes_grid1 import make_axes_locatable\n",
        "from sklearn import linear_model\n",
        "%matplotlib inline\n",
        "\n",
        "#np.random.seed(2023)\n",
        "\n",
        "N = 20   #number of spins\n",
        "M = 1000  #number of samples \n",
        "J = 1.0  #coupling energy for generating the data\n",
        "\n",
        "#Randomly generate the spin configurations\n",
        "s = np.random.choice([-1,1], size=(M,N))\n",
        "\n",
        "def getEnergy_nnIsing1D(s):\n",
        "  return np.zeros(s.shape[0]) #Modify this line for part c)\n",
        "\n",
        "H = getEnergy_nnIsing1D(s) #Labels for each configuration\n",
        "\n",
        "# Introduce the variable x as in part b: s_j*s_k --> x_p\n",
        "x = np.zeros((M,N,N)) #Modify this line for part d)\n",
        "\n",
        "#Consider only the upper triangular part of this matrix since we only want to consider k>j:\n",
        "iu = np.triu_indices(x.shape[1],k=1)\n",
        "x = x[:,iu[0],iu[1]]"
      ],
      "metadata": {
        "id": "jf56CFSllL1u"
      },
      "execution_count": null,
      "outputs": []
    },
    {
      "cell_type": "markdown",
      "source": [
        "## Define a function to plot the coupling parameters $J_{jk}$"
      ],
      "metadata": {
        "id": "lcQe4yugLcWA"
      }
    },
    {
      "cell_type": "code",
      "source": [
        "def plot_J(w,N):\n",
        "  J = np.zeros((N,N))\n",
        "\n",
        "  #Fill in the upper triangular part with entries from w:\n",
        "  iu = np.triu_indices(N,k=1)\n",
        "  J[iu] = -1.0*w\n",
        "\n",
        "  #Plot this matrix:\n",
        "  max_Jmag = max(np.max(J),-1*np.min(J))\n",
        "  cmap_args=dict(vmin=min(-1.,-1*max_Jmag), vmax=max(1.,max_Jmag), cmap='PRGn')\n",
        "\n",
        "  fig, ax = plt.subplots() \n",
        "  im      = ax.imshow(J,**cmap_args)\n",
        "  ax.set_title(r'$J_{jk}$',fontsize=18)\n",
        "\n",
        "  divider = make_axes_locatable(ax)\n",
        "  cax = divider.append_axes(\"right\", size=\"5%\", pad=0.1)\n",
        "  cbar=fig.colorbar(im, cax=cax)\n",
        "\n",
        "  plt.show()"
      ],
      "metadata": {
        "id": "It3VAzdpLm2L"
      },
      "execution_count": null,
      "outputs": []
    },
    {
      "cell_type": "markdown",
      "source": [
        "## Find the parameters $J_{jk}$ using the exact solution"
      ],
      "metadata": {
        "id": "XDKpo_GvbZIg"
      }
    },
    {
      "cell_type": "code",
      "source": [
        "%%time\n",
        "w_exact = np.zeros(x.shape[1]) #Modify this line for part e)\n",
        "plot_J(w_exact,N)"
      ],
      "metadata": {
        "id": "2aVqbEW9be3V"
      },
      "execution_count": null,
      "outputs": []
    },
    {
      "cell_type": "markdown",
      "source": [
        "## Find the parameters $J_{jk}$ using gradient descent"
      ],
      "metadata": {
        "id": "pXkeh4yTurKx"
      }
    },
    {
      "cell_type": "code",
      "source": [
        "%%time\n",
        "w_init = 2*np.random.rand(x.shape[1])-1 #initialize the w parameters randomly\n",
        "\n",
        "#Apply gradient descent with a constant learning rate of eta0:\n",
        "w_GD = linear_model.SGDRegressor(penalty=None, learning_rate='constant', eta0=0.001).fit(x, H, coef_init=w_init).coef_\n",
        "plot_J(w_GD,N)"
      ],
      "metadata": {
        "id": "q_WnKL3Lvc6a"
      },
      "execution_count": null,
      "outputs": []
    },
    {
      "cell_type": "code",
      "source": [],
      "metadata": {
        "id": "ZM1ZUKGD3Wrp"
      },
      "execution_count": null,
      "outputs": []
    }
  ]
}