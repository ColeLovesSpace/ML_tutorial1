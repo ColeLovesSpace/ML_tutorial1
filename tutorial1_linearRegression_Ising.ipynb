{
 "cells": [
  {
   "cell_type": "markdown",
   "metadata": {
    "id": "lkO_BzBFk3PP"
   },
   "source": [
    "# Machine Learning for Many-Body Physics, Tutorial 1: \n",
    "# Learning the Ising Hamiltonian using linear regression\n",
    "\n",
    "Perimeter Scholars International 2022-2023\n",
    "\n",
    "February 28, 2023\n",
    "\n",
    "Lauren Hayward\n",
    "\n",
    "**References:** Section VI.D of https://arxiv.org/abs/1803.08823, and the corresponding Notebook D from https://physics.bu.edu/~pankajm/MLnotebooks.html"
   ]
  },
  {
   "cell_type": "markdown",
   "metadata": {
    "id": "O0B99Cr8lyO6"
   },
   "source": [
    "## Generate the data set:"
   ]
  },
  {
   "cell_type": "code",
   "execution_count": 59,
   "metadata": {
    "id": "jf56CFSllL1u"
   },
   "outputs": [],
   "source": [
    "import numpy as np\n",
    "import matplotlib.pyplot as plt\n",
    "from mpl_toolkits.axes_grid1 import make_axes_locatable\n",
    "from sklearn import linear_model\n",
    "%matplotlib inline\n",
    "\n",
    "#np.random.seed(2023)\n",
    "\n",
    "N = 40   #number of spins\n",
    "M = 10000  #number of samples \n",
    "J = 1.0  #coupling energy for generating the data\n",
    "\n",
    "#Randomly generate the spin configurations\n",
    "s = np.random.choice([-1,1], size=(M,N))\n",
    "\n",
    "def getEnergy_nnIsing1D(s):\n",
    "#     EnSet = []\n",
    "#     for i in range(M):\n",
    "#         E = 0\n",
    "#         for j in range(N):\n",
    "#             E+=s[i][j]*s[i][(j+1)%N]\n",
    "#         EnSet.append(E)\n",
    "#     return EnSet\n",
    "    return np.sum(-s*np.roll(s,-1),axis=1)\n",
    "\n",
    "H = getEnergy_nnIsing1D(s) #Labels for each configuration\n",
    "\n",
    "# Introduce the variable x as in part b: s_j*s_k --> x_p\n",
    "x = np.einsum('ij,ik->ijk',s,s) \n",
    "\n",
    "#Consider only the upper triangular part of this matrix since we only want to consider k>j:\n",
    "iu = np.triu_indices(x.shape[1],k=1)\n",
    "x = x[:,iu[0],iu[1]]\n",
    "\n"
   ]
  },
  {
   "cell_type": "markdown",
   "metadata": {},
   "source": [
    "a) I would expect that if $H_{\\text {model }}(\\vec{s})=H_{\\text {data }}(\\vec{s})$ for all $\\vec{s}$ then the coupling parameters should be $J_{j j+1} = 1$ and $J_{j k} = 0$ otherwise. This is because the data is generated from only nearest neighbour interactions with coupling 1. "
   ]
  },
  {
   "cell_type": "markdown",
   "metadata": {},
   "source": [
    "b) We start with the model Hamiltonian $H_{\\text {model }}=-\\sum_{j=1}^N \\sum_{k>j} J_{j k} s_j s_k$ "
   ]
  },
  {
   "cell_type": "markdown",
   "metadata": {
    "id": "lcQe4yugLcWA"
   },
   "source": [
    "## Define a function to plot the coupling parameters $J_{jk}$"
   ]
  },
  {
   "cell_type": "code",
   "execution_count": 60,
   "metadata": {
    "id": "It3VAzdpLm2L"
   },
   "outputs": [],
   "source": [
    "def plot_J(w,N):\n",
    "    J = np.zeros((N,N))\n",
    "\n",
    "    #Fill in the upper triangular part with entries from w:\n",
    "    iu = np.triu_indices(N,k=1)\n",
    "    J[iu] = -1.0*w\n",
    "\n",
    "    #Plot this matrix:\n",
    "    max_Jmag = max(np.max(J),-1*np.min(J))\n",
    "    cmap_args=dict(vmin=min(-1.,-1*max_Jmag), vmax=max(1.,max_Jmag), cmap='PRGn')\n",
    "\n",
    "    fig, ax = plt.subplots() \n",
    "    im      = ax.imshow(J,**cmap_args)\n",
    "    ax.set_title(r'$J_{jk}$',fontsize=18)\n",
    "\n",
    "    divider = make_axes_locatable(ax)\n",
    "    cax = divider.append_axes(\"right\", size=\"5%\", pad=0.1)\n",
    "    cbar=fig.colorbar(im, cax=cax)\n",
    "\n",
    "    plt.show()\n",
    "    "
   ]
  },
  {
   "cell_type": "markdown",
   "metadata": {
    "id": "XDKpo_GvbZIg"
   },
   "source": [
    "## Find the parameters $J_{jk}$ using the exact solution"
   ]
  },
  {
   "cell_type": "markdown",
   "metadata": {},
   "source": [
    "$\\vec{w}_{\\text {exact }}=\\left(X^T X\\right)^{-1} X^T \\vec{y}$"
   ]
  },
  {
   "cell_type": "code",
   "execution_count": 61,
   "metadata": {
    "id": "2aVqbEW9be3V"
   },
   "outputs": [
    {
     "data": {
      "image/png": "[encoded data removed]",
      "text/plain": [
       "<Figure size 432x288 with 2 Axes>"
      ]
     },
     "metadata": {
      "needs_background": "light"
     },
     "output_type": "display_data"
    },
    {
     "name": "stdout",
     "output_type": "stream",
     "text": [
      "CPU times: user 6.19 s, sys: 819 ms, total: 7.01 s\n",
      "Wall time: 5.26 s\n"
     ]
    }
   ],
   "source": [
    "%%time\n",
    "w_exact = np.linalg.inv(x.T.dot(x)).dot(x.T).dot(H)\n",
    "\n",
    "# np.zeros(x.shape[1]) \n",
    "plot_J(w_exact,N)"
   ]
  },
  {
   "cell_type": "markdown",
   "metadata": {},
   "source": [
    "f) I see an error \"LinAlgError: Singular matrix\". This will probably be due to the fact that x is no longer invertable for some reason. If I change M to 40 then the exact solver works fine. Thus for the exact solver to work we need M >= N."
   ]
  },
  {
   "cell_type": "markdown",
   "metadata": {
    "id": "pXkeh4yTurKx"
   },
   "source": [
    "## Find the parameters $J_{jk}$ using gradient descent"
   ]
  },
  {
   "cell_type": "code",
   "execution_count": 55,
   "metadata": {
    "id": "q_WnKL3Lvc6a"
   },
   "outputs": [
    {
     "data": {
      "image/png": "[encoded data removed]",
      "text/plain": [
       "<Figure size 432x288 with 2 Axes>"
      ]
     },
     "metadata": {
      "needs_background": "light"
     },
     "output_type": "display_data"
    },
    {
     "name": "stdout",
     "output_type": "stream",
     "text": [
      "CPU times: user 1.38 s, sys: 138 ms, total: 1.52 s\n",
      "Wall time: 1.34 s\n"
     ]
    }
   ],
   "source": [
    "%%time\n",
    "w_init = 2*np.random.rand(x.shape[1])-1 #initialize the w parameters randomly\n",
    "\n",
    "#Apply gradient descent with a constant learning rate of eta0:\n",
    "w_GD = linear_model.SGDRegressor(penalty=None, learning_rate='constant', eta0=0.0001).fit(x, H, coef_init=w_init).coef_\n",
    "plot_J(w_GD,N)"
   ]
  },
  {
   "cell_type": "markdown",
   "metadata": {
    "id": "ZM1ZUKGD3Wrp"
   },
   "source": [
    "g) \n",
    "eta0=0.001 - Initial eta\n",
    "\n",
    "eta0=0.005 - nothing much changes\n",
    "\n",
    "eta0=0.03 - Too large of a learning rate, the algorithm is unable to find that the coupling is only between nearest neighbours and instead finds large coupling between many different spins far apart. \n",
    "\n",
    "eta0=0.000003 - Took the maximum number of steps before it reached convergence. Too small of steps.\n",
    "\n",
    "eta0=0.00003 - can see faint errors in the non neighbour interactions but very small fluctuations. "
   ]
  },
  {
   "cell_type": "markdown",
   "metadata": {},
   "source": [
    "h)"
   ]
  },
  {
   "cell_type": "code",
   "execution_count": 53,
   "metadata": {},
   "outputs": [
    {
     "data": {
      "image/png": "[encoded data removed]",
      "text/plain": [
       "<Figure size 432x288 with 2 Axes>"
      ]
     },
     "metadata": {
      "needs_background": "light"
     },
     "output_type": "display_data"
    },
    {
     "name": "stdout",
     "output_type": "stream",
     "text": [
      "CPU times: user 23.7 s, sys: 10.9 s, total: 34.6 s\n",
      "Wall time: 5.48 s\n"
     ]
    }
   ],
   "source": [
    "%%time\n",
    "w_exact = linear_model.LinearRegression().fit(x, H).coef_\n",
    "\n",
    "# np.zeros(x.shape[1]) \n",
    "plot_J(w_exact,N)"
   ]
  },
  {
   "cell_type": "code",
   "execution_count": 54,
   "metadata": {},
   "outputs": [
    {
     "data": {
      "image/png": "[encoded data removed]",
      "text/plain": [
       "<Figure size 432x288 with 2 Axes>"
      ]
     },
     "metadata": {
      "needs_background": "light"
     },
     "output_type": "display_data"
    },
    {
     "name": "stdout",
     "output_type": "stream",
     "text": [
      "CPU times: user 1.62 s, sys: 283 ms, total: 1.9 s\n",
      "Wall time: 1.48 s\n"
     ]
    }
   ],
   "source": [
    "%%time\n",
    "w_init = 2*np.random.rand(x.shape[1])-1 #initialize the w parameters randomly\n",
    "\n",
    "#Apply gradient descent with a constant learning rate of eta0:\n",
    "w_GD = linear_model.SGDRegressor().fit(x, H, coef_init=w_init).coef_\n",
    "plot_J(w_GD,N)"
   ]
  },
  {
   "cell_type": "markdown",
   "metadata": {},
   "source": [
    "i) For M = 10000 and N = 70 we find that the gradient decent algorithm runs around "
   ]
  },
  {
   "cell_type": "code",
   "execution_count": null,
   "metadata": {},
   "outputs": [],
   "source": []
  }
 ],
 "metadata": {
  "colab": {
   "provenance": []
  },
  "kernelspec": {
   "display_name": "Python 3.8 (conda)",
   "language": "python",
   "name": "python38-conda"
  },
  "language_info": {
   "codemirror_mode": {
    "name": "ipython",
    "version": 3
   },
   "file_extension": ".py",
   "mimetype": "text/x-python",
   "name": "python",
   "nbconvert_exporter": "python",
   "pygments_lexer": "ipython3",
   "version": "3.8.5"
  }
 },
 "nbformat": 4,
 "nbformat_minor": 4
}
